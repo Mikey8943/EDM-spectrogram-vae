{
 "cells": [
  {
   "cell_type": "markdown",
   "metadata": {},
   "source": [
    "## Import Libary"
   ]
  },
  {
   "cell_type": "code",
   "execution_count": null,
   "metadata": {},
   "outputs": [],
   "source": [
    "import os\n",
    "import shutil\n",
    "import librosa\n",
    "import numpy as np\n",
    "import pandas as pd\n",
    "import librosa.display\n",
    "import soundfile as sf\n",
    "from tqdm.auto import tqdm\n",
    "import seaborn as sns\n",
    "import matplotlib.pyplot as plt"
   ]
  },
  {
   "cell_type": "markdown",
   "metadata": {},
   "source": [
    "## Exploratory Data Analysis"
   ]
  },
  {
   "cell_type": "code",
   "execution_count": 2,
   "metadata": {},
   "outputs": [],
   "source": [
    "class EDA:\n",
    "  \n",
    "  def __init__(self, directory, sr=22050):\n",
    "    self.directory = directory\n",
    "    self.wav_name = os.listdir(directory)\n",
    "    self.count = len(self.wav_name)\n",
    "    self.file_duration = []\n",
    "    for filename in tqdm(self.wav_name):\n",
    "      signal, sr = librosa.load(os.path.join(self.directory,filename))\n",
    "      duration = librosa.get_duration(signal, sr=sr) / 60\n",
    "      self.file_duration.append(duration)\n",
    "    self.df = pd.DataFrame(\n",
    "        {\"wav\": self.wav_name, \"duration(min)\": self.file_duration},\n",
    "        index=[index + 1 for index in range(self.count)]\n",
    "        )\n",
    "    \n",
    "  def _summarize(self):\n",
    "    return self.df[[\"duration(min)\"]].describe()\n",
    "\n",
    "  def _total_duration(self):\n",
    "    hours = self.df[\"duration(min)\"].sum() / 60\n",
    "    return \"total dataset duration: {} hours\".format(str(hours))\n",
    "\n",
    "  def _boxplot(self):\n",
    "    sns.set_style(\"darkgrid\")\n",
    "    sns.set_palette(\"husl\")\n",
    "    fig, ax = plt.subplots()\n",
    "    ax.set_title(\"Length\")\n",
    "    sns.boxplot(x=self.df[\"duration(min)\"], ax=ax)\n",
    "    plt.xticks(rotation=45)\n",
    "    plt.show()\n",
    "  \n",
    "  def _violinplot(self):\n",
    "    sns.set_style(\"whitegrid\")\n",
    "    sns.set_palette(\"husl\")\n",
    "    fig, ax = plt.subplots()\n",
    "    ax.set_title(\"Length\")\n",
    "    sns.violinplot(x=self.df[\"duration(min)\"], ax=ax)\n",
    "    plt.xticks(rotation=45)\n",
    "    plt.show()\n",
    "  "
   ]
  },
  {
   "cell_type": "markdown",
   "metadata": {},
   "source": [
    "## Convert audio-files to .wav"
   ]
  },
  {
   "cell_type": "code",
   "execution_count": 3,
   "metadata": {},
   "outputs": [],
   "source": [
    "class Converter:\n",
    "  def __init__(self, directory, file_type):\n",
    "    self.directory = directory\n",
    "    self.file_list = os.listdir(self.directory)\n",
    "    self.file_type = file_type\n",
    "\n",
    "  def convert(self, processed_directory):\n",
    "    #os.mkdir(processed_directory)\n",
    "    for file_ in tqdm(self.file_list):\n",
    "      file = os.path.join(self.directory, file_)\n",
    "      newname = file[:-4] + \".wav\"\n",
    "      #print(\"ffmpeg -i {} -ac 1 -ar 22050 {}\".format(file, newname))\n",
    "      os.system(\"ffmpeg -i {} -ac 1 -ar 22050 {}\".format(file, newname))\n",
    "      \n",
    "      shutil.move(os.path.join(self.directory, newname), os.path.join(processed_directory, newname))"
   ]
  },
  {
   "cell_type": "markdown",
   "metadata": {},
   "source": [
    "## Preprocess .wav (trimed & sliceed)"
   ]
  },
  {
   "cell_type": "code",
   "execution_count": 4,
   "metadata": {},
   "outputs": [],
   "source": [
    "class Preprocesser(EDA):\n",
    "\n",
    "  def __init__(self, directory, sr=22050):\n",
    "    super().__init__(directory, sr=22050)\n",
    "    self.shortest = self.df[self.df[\"duration(min)\"] == self.df[\"duration(min)\"].min()].values[0][1]\n",
    "    self.min_sample = self.shortest * 60 * sr\n",
    "  \n",
    "  def trim(self, processed_directory, sr=22050, threshold=12):\n",
    "    #os.makedirs(str(processed_directory))\n",
    "    for filename in tqdm(self.wav_name):\n",
    "      new_filename = \"trimed_{}.wav\".format(filename[:-4])\n",
    "      signal, sr = librosa.load(os.path.join(self.directory,filename), sr=sr)\n",
    "      trimed, index = librosa.effects.trim(signal, top_db=threshold)\n",
    "      sf.write(os.path.join(self.directory, new_filename), trimed, samplerate=sr)\n",
    "      shutil.move(os.path.join(self.directory, new_filename) , os.path.join(processed_directory, new_filename))\n",
    "  \n",
    "  \n",
    "  def slice_audio(self, processed_directory, sr=22050, duration=15):\n",
    "    os.makedirs(str(processed_directory))\n",
    "    for filename in tqdm(self.wav_name):\n",
    "      signal, sr = librosa.load(os.path.join(self.directory, filename), sr=22050)\n",
    "      cut_duration = sr * duration\n",
    "      cut_time = np.ceil(len(signal) / cut_duration)\n",
    "      \n",
    "      for i in range(1, int(cut_time + 1)):\n",
    "        new_filename = f\"{filename[:-4]}__{i}.{filename[-3:]}\"\n",
    "        start = (i - 1) * cut_duration\n",
    "        stop = i * cut_duration\n",
    "        signal_cut = signal[start: stop]\n",
    "        sf.write(os.path.join(self.directory, new_filename), data=signal_cut,samplerate=sr)\n",
    "        shutil.move(os.path.join(self.directory, new_filename), os.path.join(processed_directory, new_filename))"
   ]
  },
  {
   "cell_type": "markdown",
   "metadata": {},
   "source": [
    "## Start preprocessing data"
   ]
  },
  {
   "cell_type": "code",
   "execution_count": 5,
   "metadata": {},
   "outputs": [],
   "source": [
    "root = r\"YOUR_WORKING_DIRECTORY_PATH\""
   ]
  },
  {
   "cell_type": "code",
   "execution_count": null,
   "metadata": {},
   "outputs": [],
   "source": [
    "converter = Converter(os.path.join(root, \"Raw_final\"), \".wav\")"
   ]
  },
  {
   "cell_type": "code",
   "execution_count": null,
   "metadata": {},
   "outputs": [],
   "source": [
    "converter.convert(os.path.join(root, \"Converted_to_wav\"))"
   ]
  },
  {
   "cell_type": "code",
   "execution_count": null,
   "metadata": {},
   "outputs": [],
   "source": [
    "preprocesser = Preprocesser(os.path.join(root, \"Converted_to_wav\"))"
   ]
  },
  {
   "cell_type": "code",
   "execution_count": null,
   "metadata": {},
   "outputs": [
    {
     "data": {
      "text/plain": [
       "'total dataset duration: 73.98501079617033 hours'"
      ]
     },
     "execution_count": 10,
     "metadata": {},
     "output_type": "execute_result"
    }
   ],
   "source": [
    "preprocesser._total_duration()"
   ]
  },
  {
   "cell_type": "code",
   "execution_count": null,
   "metadata": {},
   "outputs": [
    {
     "data": {
      "image/png": "[encoded data removed]",
      "text/plain": [
       "<Figure size 432x288 with 1 Axes>"
      ]
     },
     "metadata": {},
     "output_type": "display_data"
    }
   ],
   "source": [
    "preprocesser._violinplot()"
   ]
  },
  {
   "cell_type": "code",
   "execution_count": null,
   "metadata": {},
   "outputs": [
    {
     "data": {
      "image/png": "[encoded data removed]",
      "text/plain": [
       "<Figure size 432x288 with 1 Axes>"
      ]
     },
     "metadata": {},
     "output_type": "display_data"
    }
   ],
   "source": [
    "preprocesser._boxplot()"
   ]
  },
  {
   "cell_type": "code",
   "execution_count": null,
   "metadata": {},
   "outputs": [
    {
     "name": "stderr",
     "output_type": "stream",
     "text": [
      "100%|██████████| 310/310 [03:01<00:00,  1.71it/s]\n"
     ]
    }
   ],
   "source": [
    "preprocesser.trim(os.path.join(root, \"trimed_final\")) "
   ]
  },
  {
   "cell_type": "code",
   "execution_count": null,
   "metadata": {},
   "outputs": [],
   "source": [
    "preprocesser = Preprocesser(os.path.join(root, \"trimed_final\"))"
   ]
  },
  {
   "cell_type": "code",
   "execution_count": null,
   "metadata": {},
   "outputs": [
    {
     "data": {
      "text/plain": [
       "'total dataset duration: 71.86236065759637 hours'"
      ]
     },
     "execution_count": 7,
     "metadata": {},
     "output_type": "execute_result"
    }
   ],
   "source": [
    "preprocesser._total_duration()"
   ]
  },
  {
   "cell_type": "code",
   "execution_count": null,
   "metadata": {},
   "outputs": [
    {
     "name": "stderr",
     "output_type": "stream",
     "text": [
      "100%|██████████| 1090/1090 [06:37<00:00,  2.74it/s]\n"
     ]
    }
   ],
   "source": [
    "preprocesser.slice_audio(os.path.join(\"E:\\datasethere\", \"sliced_final\"))"
   ]
  }
 ],
 "metadata": {
  "interpreter": {
   "hash": "ad2bdc8ecc057115af97d19610ffacc2b4e99fae6737bb82f5d7fb13d2f2c186"
  },
  "kernelspec": {
   "display_name": "Python 3.9.7 ('base')",
   "language": "python",
   "name": "python3"
  },
  "language_info": {
   "codemirror_mode": {
    "name": "ipython",
    "version": 3
   },
   "file_extension": ".py",
   "mimetype": "text/x-python",
   "name": "python",
   "nbconvert_exporter": "python",
   "pygments_lexer": "ipython3",
   "version": "3.9.7"
  },
  "orig_nbformat": 2
 },
 "nbformat": 4,
 "nbformat_minor": 2
}
